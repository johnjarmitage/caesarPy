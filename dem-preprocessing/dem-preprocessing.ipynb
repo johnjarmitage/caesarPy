{
 "cells": [
  {
   "cell_type": "markdown",
   "id": "95c16e5a-976c-4eec-88f1-13deb2a48dd6",
   "metadata": {},
   "source": [
    "## 1. Clip the DEM to the catchment shape file and cut at Napolean III Bridge"
   ]
  },
  {
   "cell_type": "markdown",
   "id": "59f88d96-c126-4426-a7ff-c7064dd70303",
   "metadata": {},
   "source": [
    "Convert the coordinates of the bridge from WGS84 to Lambert93"
   ]
  },
  {
   "cell_type": "code",
   "execution_count": null,
   "id": "f7f79873-ecb3-4740-9fcf-881359ceebc3",
   "metadata": {},
   "outputs": [],
   "source": [
    "import os\n",
    "import numpy as np\n",
    "import matplotlib.pyplot as plt\n",
    "import matplotlib.colors as colors\n",
    "import rasterio as rio\n",
    "\n",
    "from osgeo import gdal\n",
    "from pyproj import Proj, Transformer\n",
    "\n",
    "## Landlab components\n",
    "from landlab.components import SinkFiller # SinkFiller is optional\n",
    "from landlab.io import read_esri_ascii, write_esri_ascii\n",
    "from landlab.plot import imshow_grid  # plotter functions are optional"
   ]
  },
  {
   "cell_type": "code",
   "execution_count": null,
   "id": "f1d5fe14-fa47-4835-9261-9f82ba6b9268",
   "metadata": {},
   "outputs": [],
   "source": [
    "transformer = Transformer.from_crs(\"epsg:4326\", \"epsg:2154\")\n",
    "\n",
    "lat = 43.66369\n",
    "lon = 7.19818\n",
    "x, y = transformer.transform(lat, lon)\n",
    "print('{}, {}'.format(x, y))"
   ]
  },
  {
   "cell_type": "markdown",
   "id": "ff57d160-7991-47a4-bfe6-654bdae87efe",
   "metadata": {},
   "source": [
    "Separate Qgis installation within its own environment, to stop caesarpy becoming too bloated:\n",
    "\n",
    "```\n",
    "conda activate qgis_stable\n",
    "python crop-dem-to-catchment.py\n",
    "```"
   ]
  },
  {
   "cell_type": "markdown",
   "id": "5c251a27-cd6f-41f2-8686-cb88cecb0792",
   "metadata": {},
   "source": [
    "## 2. Resample DEM at at lower resultion using mean and minimum critera\n",
    "\n",
    "Again, using Qgis, so run the following python script\n",
    "```\n",
    "python resample-dem.py\n",
    "```\n",
    "and now there are two DEMs"
   ]
  },
  {
   "cell_type": "code",
   "execution_count": null,
   "id": "1625eeda-07aa-4a70-980f-5188a07126d0",
   "metadata": {},
   "outputs": [],
   "source": [
    "path_to_tif = \"./remaud/\"\n",
    "resampled_raster = '{}dem_200m_mean.tif'.format(path_to_tif)\n",
    "\n",
    "dem = rio.open(resampled_raster)  # read in tif file\n",
    "topo_mean = dem.read(1).astype(float)  # assume that elevation is in the first band\n",
    "topo_mean[topo_mean <= 0] = np.nan  # replace -9999 with nan\n",
    "\n",
    "resampled_raster = '{}dem_200m_min.tif'.format(path_to_tif)\n",
    "\n",
    "dem = rio.open(resampled_raster)  # read in tif file\n",
    "topo_min = dem.read(1).astype(float)  # assume that elevation is in the first band\n",
    "topo_min[topo_min <= 0] = np.nan  # replace -9999 with nan\n",
    "\n",
    "# Gqis has left a buffer around the DEM, so the bottom does not touch the boundary.\n",
    "# Remove bottom two rows\n",
    "topo_mean = topo_mean[:-1,:]\n",
    "topo_min = topo_min[:-1,:]\n",
    "\n",
    "plt.figure(figsize=[20,10])\n",
    "plt.subplot(131)\n",
    "plt.imshow(topo_mean)\n",
    "plt.title('Mean')\n",
    "plt.subplot(132)\n",
    "plt.imshow(topo_min)\n",
    "plt.title('Min')\n",
    "plt.subplot(133)\n",
    "plt.imshow(topo_mean-topo_min)\n",
    "plt.title('Difference')\n",
    "plt.show()"
   ]
  },
  {
   "cell_type": "code",
   "execution_count": null,
   "id": "a053f1fa-2a1a-45b9-8a0b-9e9e1a8da63f",
   "metadata": {},
   "outputs": [],
   "source": []
  },
  {
   "cell_type": "markdown",
   "id": "20d10793-68ae-42bc-a9b6-ba5e081a91b7",
   "metadata": {},
   "source": [
    "## 3. Run D4 pit filling algorithm on minimum DEM\n",
    "\n",
    "I will convert the DEM to ascii format and then run the `SinkFiller` algorithm from `LandLab` on the minimim 200m DEM."
   ]
  },
  {
   "cell_type": "code",
   "execution_count": null,
   "id": "c280bdb4-d2db-43c6-b402-a26881d9dc06",
   "metadata": {},
   "outputs": [],
   "source": [
    "def numpy2asc(array,tiffile, ascfile):\n",
    "    \"\"\"\n",
    "    Function to convert a geotiff (.tif) file into an ascii file (.asc)\n",
    "    :param tiffile: input geotiff file name\n",
    "    :param ascfile: output ascii file name (CAESAR expects .asc)\n",
    "    :return: None\n",
    "    \"\"\"\n",
    "    rio_array = rio.open(tiffile)  # read in tif file\n",
    "    \n",
    "    f = open(ascfile, 'w')\n",
    "    f.write('ncols         {}\\n'.format(np.shape(array)[1]))\n",
    "    f.write('nrows         {}\\n'.format(np.shape(array)[0]))\n",
    "    f.write('xllcorner     {}\\n'.format((rio_array.transform * (0, rio_array.height))[0]))\n",
    "    f.write('yllcorner     {}\\n'.format((rio_array.transform * (0, rio_array.height))[1]))\n",
    "    f.write('cellsize      {}\\n'.format(rio_array.transform[0]))\n",
    "    f.write('NODATA_value  -9999\\n')\n",
    "\n",
    "    pix = '{0} '\n",
    "    for i in range(np.shape(array)[0]):\n",
    "        for j in range(np.shape(array)[1]):\n",
    "            if np.isnan(array[i, j]) == True:\n",
    "                f.write(pix.format(int(-9999)))  # need to replace nan with -9999\n",
    "            elif array[i, j] <= 0:\n",
    "                f.write(pix.format(int(-9999)))  # need to replace 0 with -9999\n",
    "            else:\n",
    "                f.write(pix.format(array[i, j]))\n",
    "        f.write(\"\\n\")\n",
    "    f.close()"
   ]
  },
  {
   "cell_type": "code",
   "execution_count": null,
   "id": "ecca7342-db84-4ec0-9908-30d219ae8275",
   "metadata": {},
   "outputs": [],
   "source": [
    "dem_asc = '{}dem_200m_min.asc'.format(path_to_tif)\n",
    "numpy2asc(topo_min, resampled_raster, dem_asc)"
   ]
  },
  {
   "cell_type": "code",
   "execution_count": null,
   "id": "63609b53-0407-493e-9c58-debc177a3426",
   "metadata": {},
   "outputs": [],
   "source": [
    "# Load in minimum DEM\n",
    "(rmg, z) = read_esri_ascii(dem_asc, name='topographic__elevation')\n",
    "\n",
    "# run the sink filling algorithm\n",
    "rmg.set_watershed_boundary_condition(z)\n",
    "sf = SinkFiller(rmg, routing='D4', apply_slope=False)\n",
    "sf.fill_pits()\n",
    "\n",
    "dem_filled = '{}dem_200m_min_filled.asc'.format(path_to_tif)\n",
    "if os.path.isfile(dem_filled):\n",
    "    os.remove(dem_filled)\n",
    "write_esri_ascii(dem_filled, rmg, names='topographic__elevation')"
   ]
  },
  {
   "cell_type": "code",
   "execution_count": null,
   "id": "379658e8-ef77-41a9-8ec2-69106c414d3a",
   "metadata": {},
   "outputs": [],
   "source": [
    "def asc2numpy(ascfile):\n",
    "    \"\"\"\n",
    "    Function to read in an ascii file (.asc) and return a Numpy array\n",
    "    :param ascfile: input ascii file name\n",
    "    :return ncols: number of columns\n",
    "    :return nrows: number of rows\n",
    "    :return geotransform: the geo-transfrom info\n",
    "    :return data: a numpy array of the ascii data\n",
    "    \"\"\"\n",
    "\n",
    "    try:\n",
    "        gdal_data = gdal.Open(ascfile)  # use GDAL to open the ascii fle\n",
    "        ncols = gdal_data.RasterXSize  # get the number of columns\n",
    "        nrows = gdal_data.RasterYSize  # get the number of rows\n",
    "        geotransform = gdal_data.GetGeoTransform()  # get the geo-transform info\n",
    "        data_array = gdal_data.ReadAsArray().astype(float)  # convert the data into a numpy array\n",
    "        data_array[data_array <= -9999] = np.nan  # replace -9999 with nan\n",
    "\n",
    "        return ncols, nrows, geotransform, data_array\n",
    "\n",
    "    except:\n",
    "        print('cannot open {}'.format(ascfile))\n"
   ]
  },
  {
   "cell_type": "code",
   "execution_count": null,
   "id": "1a2eba10-02bf-4ab2-80fb-6d6f7a03273e",
   "metadata": {},
   "outputs": [],
   "source": [
    "nx, ny, geotransform, dem_min = asc2numpy(dem_asc)\n",
    "nx, ny, geotransform, dem_fill = asc2numpy(dem_filled)\n",
    "\n",
    "plt.figure(figsize=[20,10])\n",
    "plt.subplot(121)\n",
    "plt.imshow(dem_fill)\n",
    "plt.colorbar()\n",
    "plt.subplot(122)\n",
    "plt.imshow(dem_fill - dem_min)\n",
    "plt.colorbar()\n",
    "plt.title('Filled Pits')\n",
    "plt.show()"
   ]
  },
  {
   "cell_type": "markdown",
   "id": "ee9edefa-e57f-42bd-9130-d516b2fc227e",
   "metadata": {},
   "source": [
    "## 4. Run CL on the pit filled minimum DEM to get flow network\n",
    "\n",
    "This step is to allow us to sample the regions of the pit filled minimum DEM to use to replace the mean resampled DEM in the final step.\n",
    "```\n",
    "cp remaud/dem_200m_min_filled.asc remaud/hydrology-only-model/input_data/.\n",
    "cd remaud/hydrology-only-model\n",
    "bash run_HC.sh\n",
    "```\n"
   ]
  },
  {
   "cell_type": "markdown",
   "id": "f2a44eea-b7a7-409c-ba76-c56b49f8e9a8",
   "metadata": {},
   "source": [
    "Take the final output from the hydrology only run to see where water collects within the DEM"
   ]
  },
  {
   "cell_type": "code",
   "execution_count": null,
   "id": "9d3a84cf-6f1e-4eae-8d99-2c38bc189fb8",
   "metadata": {},
   "outputs": [],
   "source": [
    "dem_water_file = 'remaud/hydrology-only-model/results/WaterDepths216000.asc'\n",
    "nx, ny, geotransform, dem_water = asc2numpy(dem_water_file)\n",
    "\n",
    "x = np.linspace(0, nx-1, nx)\n",
    "y = np.linspace(ny-1, 0, ny)\n",
    "X,Y = np.meshgrid(x,y, indexing='xy')\n",
    "\n",
    "plt.figure(figsize=[10,10])\n",
    "plt.pcolormesh(X, Y, dem_water, norm=colors.LogNorm(vmin=1e-3, vmax=1e-1), shading='auto')\n",
    "plt.colorbar()\n",
    "plt.title('Water Depth')\n",
    "plt.show()"
   ]
  },
  {
   "cell_type": "markdown",
   "id": "294b47cd-d169-40a7-b677-915e7340ed8d",
   "metadata": {},
   "source": [
    "## 5 Replace regions with flow pit filled minimum DEM\n",
    "\n",
    "I chose to replace values from the mean 200 m DEM with those from the pit filled minimum DEM when the water depth is greater than 0.05 m"
   ]
  },
  {
   "cell_type": "code",
   "execution_count": null,
   "id": "d41c4a90-9f9e-46ba-806a-991d5ac659df",
   "metadata": {},
   "outputs": [],
   "source": [
    "topo_preproc = topo_mean.copy()\n",
    "topo_preproc[dem_water > 0.05] = dem_fill[dem_water > 0.05]"
   ]
  },
  {
   "cell_type": "code",
   "execution_count": null,
   "id": "9c7b888b-3970-435a-a6c4-2b0bc9b35199",
   "metadata": {},
   "outputs": [],
   "source": [
    "dem_asc = '{}dem_200m_preproc.asc'.format(path_to_tif)\n",
    "numpy2asc(topo_preproc, resampled_raster, dem_asc)"
   ]
  },
  {
   "cell_type": "code",
   "execution_count": null,
   "id": "0d616ce1-344f-4dee-9597-b2cd90f3a677",
   "metadata": {},
   "outputs": [],
   "source": [
    "plt.figure(figsize=[17,5])\n",
    "plt.subplot(131)\n",
    "plt.pcolormesh(X, Y, topo_preproc)\n",
    "plt.title('Preprocessed')\n",
    "plt.colorbar()\n",
    "plt.subplot(132)\n",
    "plt.pcolormesh(X, Y, topo_mean)\n",
    "plt.colorbar()\n",
    "plt.title('Mean')\n",
    "plt.subplot(133)\n",
    "plt.pcolormesh(X, Y, topo_mean - topo_preproc, norm=colors.LogNorm(vmin=1e-1, vmax=1e2), cmap='magma_r', shading='auto')\n",
    "plt.colorbar()\n",
    "plt.title('Difference')\n",
    "plt.show()"
   ]
  },
  {
   "cell_type": "code",
   "execution_count": null,
   "id": "bd0ed225-6411-49f2-b200-7405e7233cf2",
   "metadata": {},
   "outputs": [],
   "source": []
  }
 ],
 "metadata": {
  "kernelspec": {
   "display_name": "Python 3 (ipykernel)",
   "language": "python",
   "name": "python3"
  },
  "language_info": {
   "codemirror_mode": {
    "name": "ipython",
    "version": 3
   },
   "file_extension": ".py",
   "mimetype": "text/x-python",
   "name": "python",
   "nbconvert_exporter": "python",
   "pygments_lexer": "ipython3",
   "version": "3.10.4"
  }
 },
 "nbformat": 4,
 "nbformat_minor": 5
}
