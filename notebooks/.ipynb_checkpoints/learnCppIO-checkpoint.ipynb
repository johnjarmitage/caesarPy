{
 "cells": [
  {
   "cell_type": "markdown",
   "metadata": {},
   "source": [
    "# Notebook to test a new grainsize input file"
   ]
  },
  {
   "cell_type": "code",
   "execution_count": 1,
   "metadata": {},
   "outputs": [],
   "source": [
    "#include <iostream>\n",
    "#include <fstream>\n",
    "#include <string>\n",
    "\n",
    "using namespace std;"
   ]
  },
  {
   "cell_type": "code",
   "execution_count": 2,
   "metadata": {},
   "outputs": [
    {
     "name": "stdout",
     "output_type": "stream",
     "text": [
      "Initialising the model parameters...\n"
     ]
    }
   ],
   "source": [
    "std::cout << \"Initialising the model parameters...\" << std::endl;\n",
    "string pname = \"./\";\n",
    "string pfname = \"graindata.txt\""
   ]
  },
  {
   "cell_type": "code",
   "execution_count": 3,
   "metadata": {},
   "outputs": [],
   "source": [
    "void read_graindata()\n",
    "{\n",
    "    std::cout << \"Initialising the model parameters...\" << std::endl;\n",
    "    // Concatenate the path and graindata file name to get the full file address\n",
    "    string full_name = pname+pfname;\n",
    "\n",
    "    ifstream infile;\n",
    "    // Open the graindata file\n",
    "    infile.open(full_name.c_str());\n",
    "    \n",
    "    std::cout << \"Graindata filename is: \" << full_name << std::endl;\n",
    "    \n",
    "    // Read the Data from the file \n",
    "    // as String Vector \n",
    "    vector<string> row;\n",
    "    vector<double> dprop (3, 0.0);\n",
    "    vector<double> dsize (3, 0.0);\n",
    "    vector<double> vfall (3, 0.0);\n",
    "    string line, word, temp;\n",
    "    int n = 0;\n",
    "    \n",
    "    while(getline(infile, line)) {\n",
    "\n",
    "        if(line.empty() || (line.find(\"#\") == 0)) {\n",
    "            continue;\n",
    "        }\n",
    "       \n",
    "        std::cout << line << '\\n' << std::endl;\n",
    "        istringstream buf(line);\n",
    "        for(string word; buf >> word; )\n",
    "            row.push_back(word);\n",
    "        std::cout << \"Row: \" << row[0] << std::endl;\n",
    "        dprop[n] = stod(row[0]);\n",
    "        std::cout << \"dprop: \" << dprop[n] << std::endl;\n",
    "        dsize[n] = stod(row[1]);\n",
    "        std::cout << \"dsize: \" << dsize[n] << std::endl;\n",
    "        vfall[n] = stod(row[2]);\n",
    "        std::cout << \"vfall: \" << vfall[n] << std::endl;\n",
    "        n++;\n",
    "        row.clear();\n",
    "        \n",
    "    }\n",
    "    \n",
    "    std::cout << \"n: \" << n << std::endl;\n",
    "    \n",
    "    infile.close();\n",
    "        \n",
    "}"
   ]
  },
  {
   "cell_type": "code",
   "execution_count": 4,
   "metadata": {},
   "outputs": [
    {
     "name": "stdout",
     "output_type": "stream",
     "text": [
      "Initialising the model parameters...\n",
      "Graindata filename is: ./graindata.txt\n",
      "0.2     0.01  0\n",
      "\n",
      "Row: 0.2\n",
      "dprop: 0.2\n",
      "dsize: 0.01\n",
      "vfall: 0\n",
      "0.5     0.05  0\n",
      "\n",
      "Row: 0.5\n",
      "dprop: 0.5\n",
      "dsize: 0.05\n",
      "vfall: 0\n",
      "0.3     0.1   0\n",
      "\n",
      "Row: 0.3\n",
      "dprop: 0.3\n",
      "dsize: 0.1\n",
      "vfall: 0\n",
      "n: 3\n"
     ]
    }
   ],
   "source": [
    "read_graindata()"
   ]
  },
  {
   "cell_type": "code",
   "execution_count": null,
   "metadata": {},
   "outputs": [],
   "source": []
  }
 ],
 "metadata": {
  "kernelspec": {
   "display_name": "C++11",
   "language": "C++11",
   "name": "xcpp11"
  },
  "language_info": {
   "codemirror_mode": "text/x-c++src",
   "file_extension": ".cpp",
   "mimetype": "text/x-c++src",
   "name": "c++",
   "version": "11"
  }
 },
 "nbformat": 4,
 "nbformat_minor": 4
}
