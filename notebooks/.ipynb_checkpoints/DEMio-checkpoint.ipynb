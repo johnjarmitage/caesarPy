{
 "cells": [
  {
   "cell_type": "code",
   "execution_count": 1,
   "metadata": {},
   "outputs": [],
   "source": [
    "from osgeo import gdal\n",
    "import numpy as np\n",
    "import matplotlib.pyplot as plt\n",
    "import rasterio as rio\n",
    "import os, sys\n",
    "sys.path.insert(1, os.path.join(sys.path[0], '..'))\n",
    "import caesarpy as cp\n",
    "from scipy.interpolate import RegularGridInterpolator"
   ]
  },
  {
   "cell_type": "code",
   "execution_count": 2,
   "metadata": {},
   "outputs": [],
   "source": [
    "%matplotlib widget"
   ]
  },
  {
   "cell_type": "code",
   "execution_count": 3,
   "metadata": {},
   "outputs": [],
   "source": [
    "plt.rcParams['figure.dpi'] = 120  # makes all figures bigger"
   ]
  },
  {
   "cell_type": "markdown",
   "metadata": {},
   "source": [
    "## Plot CL output"
   ]
  },
  {
   "cell_type": "code",
   "execution_count": null,
   "metadata": {},
   "outputs": [],
   "source": [
    "ascfile = '../../caesar-explore/sithas/results/Elevations129600.asc'\n",
    "ncols, nrows, geotransform, data_array = cp.demio.asc2numpy(ascfile)"
   ]
  },
  {
   "cell_type": "code",
   "execution_count": null,
   "metadata": {},
   "outputs": [],
   "source": [
    "plt.figure(figsize=[6, 6])\n",
    "plt.imshow(data_array, aspect='auto')\n",
    "plt.colorbar()\n",
    "plt.show()"
   ]
  },
  {
   "cell_type": "code",
   "execution_count": null,
   "metadata": {},
   "outputs": [],
   "source": [
    "ascfile = '../../caesar-explore/riu-bergantes/paleo-v1/results/WaterDepths5040.asc'\n",
    "ncols, nrows, geotransform, data_array = cp.demio.asc2numpy(ascfile)\n",
    "data_array[data_array <= 0] = np.nan"
   ]
  },
  {
   "cell_type": "code",
   "execution_count": null,
   "metadata": {},
   "outputs": [],
   "source": [
    "plt.figure(figsize=[6, 6])\n",
    "plt.imshow(data_array, aspect='auto', cmap='Blues', clim=[0, 0.1])\n",
    "plt.colorbar()\n",
    "plt.show()"
   ]
  },
  {
   "cell_type": "markdown",
   "metadata": {},
   "source": [
    "## Downsample input gif and make a ascii file"
   ]
  },
  {
   "cell_type": "code",
   "execution_count": null,
   "metadata": {},
   "outputs": [],
   "source": [
    "filename = '/work/armitagj/code/caesar-explore/riu-bergantes/FACSIMILE_Bergantes/Input_data_package/PalaeoDEMs/paleoDEM_v1.tif'"
   ]
  },
  {
   "cell_type": "code",
   "execution_count": null,
   "metadata": {},
   "outputs": [],
   "source": [
    "def tif2asc10(tiffile, ascfile):\n",
    "    \"\"\"\n",
    "    Function to convert a geotiff (.tif) file into an ascii file (.asc)\n",
    "    :param tiffile: input geotiff file name\n",
    "    :param ascfile: output ascii file name (CAESAR expects .asc)\n",
    "    :return: None\n",
    "    \"\"\"\n",
    "    rio_array = rio.open(tiffile)  # read in tif file\n",
    "    data_array = rio_array.read(1)  # assume that elevation is in the first band\n",
    "\n",
    "    f = open(ascfile, 'w')\n",
    "    f.write('ncols         {}\\n'.format(np.int(0.1 * np.shape(data_array)[1]) + 1))\n",
    "    f.write('nrows         {}\\n'.format(np.int(0.1 * np.shape(data_array)[0]) + 1))\n",
    "    f.write('xllcorner     {}\\n'.format((rio_array.transform * (0, rio_array.height))[0]))\n",
    "    f.write('yllcorner     {}\\n'.format((rio_array.transform * (0, rio_array.height))[1]))\n",
    "    f.write('cellsize      {}\\n'.format(rio_array.transform[0] * 10))\n",
    "    f.write('NODATA_value  -9999\\n')\n",
    "\n",
    "    pix = '{0} '\n",
    "    for i in range(0, np.shape(data_array)[0], 10):\n",
    "        for j in range(0, np.shape(data_array)[1], 10):\n",
    "            if np.isnan(data_array[i, j]) == True:\n",
    "                f.write(pix.format(np.int(-9999)))  # need to replace nan with -9999\n",
    "            else:\n",
    "                f.write(pix.format(data_array[i, j]))\n",
    "        f.write(\"\\n\")\n",
    "    f.close()"
   ]
  },
  {
   "cell_type": "code",
   "execution_count": null,
   "metadata": {},
   "outputs": [],
   "source": [
    "tif2asc10(filename, 'test.asc')"
   ]
  },
  {
   "cell_type": "markdown",
   "metadata": {},
   "source": [
    "## Pretty plot the output"
   ]
  },
  {
   "cell_type": "code",
   "execution_count": null,
   "metadata": {},
   "outputs": [],
   "source": [
    "import pyvista as pv\n",
    "from pyvista import set_plot_theme\n",
    "set_plot_theme('document')"
   ]
  },
  {
   "cell_type": "code",
   "execution_count": null,
   "metadata": {},
   "outputs": [],
   "source": [
    "ascfile = '../../caesar-explore/riu-bergantes/paleo-v1/results/Elevations13680.asc'\n",
    "ncols, nrows, geotransform, data_array = cp.demio.asc2numpy(ascfile)"
   ]
  },
  {
   "cell_type": "code",
   "execution_count": null,
   "metadata": {},
   "outputs": [],
   "source": [
    "dXY = geotransform[1]\n",
    "xcorner = np.linspace(0.5*dXY, (ncols-0.5)*dXY, ncols)\n",
    "ycorner = np.linspace(0.5*dXY, (nrows-0.5)*dXY, nrows)\n",
    "z = data_array * 2\n",
    "x,y = np.meshgrid(xcorner, ycorner)\n",
    "grid = pv.StructuredGrid(x, y, z)"
   ]
  },
  {
   "cell_type": "code",
   "execution_count": null,
   "metadata": {},
   "outputs": [],
   "source": [
    "d = np.zeros_like(grid.points)\n",
    "d[:, 1] = grid.points[:, 2] * 0.5"
   ]
  },
  {
   "cell_type": "code",
   "execution_count": null,
   "metadata": {},
   "outputs": [],
   "source": [
    "p = pv.Plotter(notebook=False)\n",
    "p.add_mesh(grid, scalars=d[:, 1])\n",
    "cpos = p.show()"
   ]
  },
  {
   "cell_type": "code",
   "execution_count": null,
   "metadata": {},
   "outputs": [],
   "source": [
    "ascfile = '../../caesar-explore/riu-bergantes/paleo-v1/results/WaterDepths13680.asc'\n",
    "ncols, nrows, geotransform, data_array = cp.demio.asc2numpy(ascfile)"
   ]
  },
  {
   "cell_type": "code",
   "execution_count": null,
   "metadata": {},
   "outputs": [],
   "source": [
    "water = pv.StructuredGrid(x, y, data_array)"
   ]
  },
  {
   "cell_type": "code",
   "execution_count": null,
   "metadata": {},
   "outputs": [],
   "source": [
    "d = np.zeros_like(water.points)\n",
    "d[:, 1] = water.points[:, 2]"
   ]
  },
  {
   "cell_type": "code",
   "execution_count": null,
   "metadata": {
    "jupyter": {
     "source_hidden": true
    }
   },
   "outputs": [],
   "source": [
    "#cpos = [(2828.6061368377336, -10263.817257431388, 29122.020200506595),\n",
    "#        (30970.413764259796, 16364.798323330917, 2320.7413303301937),\n",
    "#        (0.41142201587402377, 0.39292919744752336, 0.8223980609457926)]\n",
    "\n",
    "p = pv.Plotter(notebook=True)\n",
    "p.add_mesh(grid, scalars=d[:,1], cmap='Blues', clim=[0,.1])\n",
    "p.camera_position = cpos\n",
    "p.show(screenshot='caesar.png')"
   ]
  },
  {
   "cell_type": "code",
   "execution_count": null,
   "metadata": {},
   "outputs": [],
   "source": [
    "print(cpos)"
   ]
  },
  {
   "cell_type": "markdown",
   "metadata": {},
   "source": [
    "## Resample input DEM"
   ]
  },
  {
   "cell_type": "code",
   "execution_count": null,
   "metadata": {},
   "outputs": [],
   "source": [
    "import scipy.interpolate as interp\n",
    "from scipy.interpolate import RegularGridInterpolator"
   ]
  },
  {
   "cell_type": "code",
   "execution_count": null,
   "metadata": {},
   "outputs": [],
   "source": [
    "tiffile = '../../caesar-explore/riu-bergantes/paleo-v1/input_data/paleoDEM_v1.tif'"
   ]
  },
  {
   "cell_type": "code",
   "execution_count": null,
   "metadata": {},
   "outputs": [],
   "source": [
    "rio_array = rio.open(tiffile)  # read in tif file\n",
    "in_array = rio_array.read(1)  # assume that elevation is in the first band\n",
    "in_array[in_array == -9999] = np.nan  # replace -9999 with nan"
   ]
  },
  {
   "cell_type": "code",
   "execution_count": null,
   "metadata": {},
   "outputs": [],
   "source": [
    "indxy = rio_array.transform[0]  # cell size of input DEM\n",
    "print('input cell size is {} m'.format(indxy))\n",
    "ny, nx = np.shape(in_array)  # number of cells in x and y (cols and rows)\n",
    "x = np.linspace(0, indxy * nx, nx)\n",
    "y = np.linspace(0, indxy * ny, ny)\n",
    "X, Y = np.meshgrid(x, y)  # grid of x and y coordinates"
   ]
  },
  {
   "cell_type": "code",
   "execution_count": null,
   "metadata": {},
   "outputs": [],
   "source": [
    "outdxy = 50\n",
    "ny = np.int((indxy * ny) / outdxy)  # number of cells in new output DEM\n",
    "nx = np.int((indxy * nx) / outdxy)\n",
    "outx = np.linspace(0, outdxy * nx, nx)\n",
    "outy = np.linspace(0, outdxy * ny, ny)\n",
    "outX, outY = np.meshgrid(outx, outy)  # new grid of x and y coordinates"
   ]
  },
  {
   "cell_type": "code",
   "execution_count": null,
   "metadata": {},
   "outputs": [],
   "source": [
    "ax = plt.figure()\n",
    "plt.imshow(in_array)\n",
    "plt.colorbar()\n",
    "plt.show()"
   ]
  },
  {
   "cell_type": "code",
   "execution_count": null,
   "metadata": {},
   "outputs": [],
   "source": [
    "my_interpolating_function = RegularGridInterpolator((y, x), in_array)"
   ]
  },
  {
   "cell_type": "code",
   "execution_count": null,
   "metadata": {},
   "outputs": [],
   "source": [
    "pts = np.stack((np.ravel(outY), np.ravel(outX)), axis=-1)"
   ]
  },
  {
   "cell_type": "code",
   "execution_count": null,
   "metadata": {},
   "outputs": [],
   "source": [
    "data_vector = my_interpolating_function(pts)"
   ]
  },
  {
   "cell_type": "code",
   "execution_count": null,
   "metadata": {},
   "outputs": [],
   "source": [
    "data_array = data_vector.reshape(np.int(ny), np.int(nx))"
   ]
  },
  {
   "cell_type": "code",
   "execution_count": null,
   "metadata": {},
   "outputs": [],
   "source": [
    "fig=plt.figure()\n",
    "plt.imshow(data_array)\n",
    "plt.colorbar()\n",
    "plt.show()"
   ]
  },
  {
   "cell_type": "code",
   "execution_count": null,
   "metadata": {},
   "outputs": [],
   "source": [
    "cut_array = data_array[20:, :]\n",
    "np.shape(cut_array)"
   ]
  },
  {
   "cell_type": "code",
   "execution_count": null,
   "metadata": {},
   "outputs": [],
   "source": [
    "fig=plt.figure()\n",
    "plt.imshow(cut_array)\n",
    "plt.colorbar()\n",
    "plt.show()"
   ]
  },
  {
   "cell_type": "code",
   "execution_count": null,
   "metadata": {},
   "outputs": [],
   "source": [
    "fig=plt.figure()\n",
    "plt.plot(cut_array[0, :])\n",
    "plt.show()"
   ]
  },
  {
   "cell_type": "markdown",
   "metadata": {},
   "source": [
    "# Convert a Golden Software Binary Grid File Format `.grd` to `.asc`"
   ]
  },
  {
   "cell_type": "code",
   "execution_count": 4,
   "metadata": {},
   "outputs": [],
   "source": [
    "grdfile = '../../caesar-explore/sithas/DEM_ALTITUDE_CUT_SITHAS_RESAMPLE.tif'\n",
    "rio_array = rio.open(grdfile)  # read in grd file, rasterio is great!"
   ]
  },
  {
   "cell_type": "code",
   "execution_count": null,
   "metadata": {},
   "outputs": [],
   "source": [
    "data_array = rio_array.read(1).astype(float)  # assume that elevation is in the first band"
   ]
  },
  {
   "cell_type": "code",
   "execution_count": null,
   "metadata": {},
   "outputs": [],
   "source": [
    "data_array[data_array < 0] = np.nan"
   ]
  },
  {
   "cell_type": "code",
   "execution_count": null,
   "metadata": {},
   "outputs": [],
   "source": [
    "plt.figure()\n",
    "plt.imshow(data_array, aspect='auto', cmap='terrain')\n",
    "plt.colorbar()\n",
    "plt.show()"
   ]
  },
  {
   "cell_type": "code",
   "execution_count": null,
   "metadata": {},
   "outputs": [],
   "source": [
    "print(np.shape(data_array))"
   ]
  },
  {
   "cell_type": "code",
   "execution_count": null,
   "metadata": {},
   "outputs": [],
   "source": [
    "cut_array = data_array[20:, :]\n",
    "np.shape(cut_array)"
   ]
  },
  {
   "cell_type": "code",
   "execution_count": null,
   "metadata": {},
   "outputs": [],
   "source": [
    "fig=plt.figure()\n",
    "plt.imshow(cut_array, aspect='auto', cmap='terrain')\n",
    "plt.colorbar()\n",
    "plt.show()"
   ]
  },
  {
   "cell_type": "code",
   "execution_count": 5,
   "metadata": {},
   "outputs": [
    {
     "name": "stdout",
     "output_type": "stream",
     "text": [
      "input cell size is 25.0 m\n",
      "output cell size is 50.13586956521739 m\n"
     ]
    }
   ],
   "source": [
    "ascfile = '../../caesar-explore/sithas/input_data/DEM_sithas_redraw.asc'\n",
    "cp.tif2asc_resample(grdfile, ascfile, 50, 20)"
   ]
  },
  {
   "cell_type": "markdown",
   "metadata": {},
   "source": [
    "# DEM of bedrock"
   ]
  },
  {
   "cell_type": "code",
   "execution_count": 6,
   "metadata": {},
   "outputs": [],
   "source": [
    "grdfile = '../../caesar-explore/sithas/DEM_THICKNESS_SOIL_CUT_SITHAS_RESAMPLE.tif'"
   ]
  },
  {
   "cell_type": "code",
   "execution_count": 7,
   "metadata": {},
   "outputs": [],
   "source": [
    "rio_array = rio.open(grdfile)"
   ]
  },
  {
   "cell_type": "code",
   "execution_count": 8,
   "metadata": {},
   "outputs": [],
   "source": [
    "data_array = rio_array.read(1).astype(float)\n",
    "data_array[data_array <= 0] = np.nan"
   ]
  },
  {
   "cell_type": "code",
   "execution_count": 9,
   "metadata": {},
   "outputs": [
    {
     "data": {
      "application/vnd.jupyter.widget-view+json": {
       "model_id": "ea877b80071645fc83fcd3ccfe94b5ec",
       "version_major": 2,
       "version_minor": 0
      },
      "text/plain": [
       "Canvas(toolbar=Toolbar(toolitems=[('Home', 'Reset original view', 'home', 'home'), ('Back', 'Back to previous …"
      ]
     },
     "metadata": {},
     "output_type": "display_data"
    }
   ],
   "source": [
    "fig=plt.figure()\n",
    "plt.imshow(data_array, aspect='auto', cmap='terrain')\n",
    "plt.colorbar()\n",
    "plt.show()"
   ]
  },
  {
   "cell_type": "code",
   "execution_count": 10,
   "metadata": {},
   "outputs": [],
   "source": [
    "def tif2asc_soil(tiffile, ascfile, outdxy, cut):\n",
    "    \"\"\"\n",
    "    Function to resample the input tif and output as ascii ready for CAESAR\n",
    "    :param tiffile: input geotiff file name\n",
    "    :param ascfile: output ascii file name (CAESAR expects .asc)\n",
    "    :param outdxy: output DEM cell size\n",
    "    :param cut: number of cells to cut off the top to create an outflow\n",
    "    :return: None\n",
    "    \"\"\"\n",
    "    rio_array = rio.open(tiffile)  # read in tif file\n",
    "    in_array = rio_array.read(1).astype(float)/100  # assume that elevation is in the first band\n",
    "    in_array[in_array <= 0] = np.nan  # replace -9999 with nan\n",
    "\n",
    "    indxy = rio_array.transform[0]  # cell size of input DEM\n",
    "    print('input cell size is {} m'.format(indxy))\n",
    "    ny, nx = np.shape(in_array)  # number of cells in x and y (cols and rows)\n",
    "    x = np.linspace(0, indxy * nx, nx)\n",
    "    y = np.linspace(0, indxy * ny, ny)\n",
    "\n",
    "    ny = np.int((indxy * ny) / outdxy)  # number of cells in new output DEM\n",
    "    nx = np.int((indxy * nx) / outdxy)\n",
    "    outx = np.linspace(0, outdxy * nx, nx)\n",
    "    outy = np.linspace(0, outdxy * ny, ny)\n",
    "    outX, outY = np.meshgrid(outx, outy)  # new grid of x and y coordinates\n",
    "    print('output cell size is {} m'.format(outX[0, 1] - outX[0, 0]))\n",
    "\n",
    "    resample = RegularGridInterpolator((y, x), in_array)  # use the scipy RegularGridInterpolator to resample the DEM\n",
    "    pts = np.stack((np.ravel(outY), np.ravel(outX)), axis=-1)  # points to resample to\n",
    "    data_vector = resample(pts)  # output DEM vector\n",
    "    data_array = data_vector.reshape(np.int(ny), np.int(nx))  # ouput DEM array\n",
    "    cut_array = data_array[cut:, :]  # cut of the top [0, :] of the DEM to make outflow point\n",
    "\n",
    "    f = open(ascfile, 'w')  # output DEM array to asc file for CAESAR to play with\n",
    "    f.write('ncols         {}\\n'.format(np.shape(cut_array)[1]))\n",
    "    f.write('nrows         {}\\n'.format(np.shape(cut_array)[0]))\n",
    "    f.write('xllcorner     {}\\n'.format((rio_array.transform * (0, rio_array.height))[0]))\n",
    "    f.write('yllcorner     {}\\n'.format((rio_array.transform * (0, rio_array.height))[1]))\n",
    "    f.write('cellsize      {}\\n'.format(outdxy))\n",
    "    f.write('NODATA_value  -9999\\n')\n",
    "\n",
    "    pix = '{0} '\n",
    "    for i in range(np.shape(cut_array)[0]):\n",
    "        for j in range(np.shape(cut_array)[1]):\n",
    "            if np.isnan(cut_array[i, j]) == True:\n",
    "                f.write(pix.format(np.int(-9999)))  # need to replace nan with -9999\n",
    "            else:\n",
    "                f.write(pix.format(cut_array[i, j]))\n",
    "        f.write(\"\\n\")\n",
    "    f.close()"
   ]
  },
  {
   "cell_type": "code",
   "execution_count": 11,
   "metadata": {},
   "outputs": [
    {
     "name": "stdout",
     "output_type": "stream",
     "text": [
      "input cell size is 25.0 m\n",
      "output cell size is 50.13586956521739 m\n"
     ]
    }
   ],
   "source": [
    "ascfile = '../../caesar-explore/sithas/input_data/DEM_sithas_soil_thickness.asc'\n",
    "tif2asc_soil(grdfile, ascfile, 50, 20)"
   ]
  },
  {
   "cell_type": "markdown",
   "metadata": {},
   "source": [
    "# It aint the same size as the DEM of elevation so lets interploate to the same grid"
   ]
  },
  {
   "cell_type": "code",
   "execution_count": null,
   "metadata": {},
   "outputs": [],
   "source": [
    "def bedrock2input(bedrock, demfile, ascfile, cut):\n",
    "    \"\"\"\n",
    "    Function to resample the input tif and output as ascii ready for CAESAR\n",
    "    :param bedrock: input bedrock DEM file name\n",
    "    :param demfile: input elevation DEM file name\n",
    "    :param ascfile: output ascii file name (CAESAR expects .asc)\n",
    "    :param outdxy: output DEM cell size\n",
    "    :param cut: number of cells to cut off the top to create an outflow\n",
    "    :return: None\n",
    "    \"\"\"\n",
    "    rio_array = rio.open(bedrock)  # read in tif file of bedrock\n",
    "    in_array = rio_array.read(1).astype(float)\n",
    "    in_array[in_array == -9999] = np.nan  # replace -9999 with nan\n",
    "\n",
    "    indxy = rio_array.transform[0]  # cell size of input DEM\n",
    "    ny, nx = np.shape(in_array)  # number of cells in x and y (cols and rows)\n",
    "    x = np.linspace(0, indxy * nx, nx)\n",
    "    y = np.linspace(0, indxy * ny, ny)\n",
    "    print('input cell size is {} m with {} cells in x and {} cells in y'.format(indxy, nx, ny))\n",
    "\n",
    "    tmp = rio.open(demfile)  # read in tif file of elevation\n",
    "    outdxy = tmp.transform[0]  # output same size as DEM of elevation\n",
    "    ny, nx = np.shape(tmp)  # number of cells in new output DEM\n",
    "    outx = np.linspace(0, outdxy * nx, nx)\n",
    "    outy = np.linspace(0, outdxy * ny, ny)\n",
    "    outX, outY = np.meshgrid(outx, outy)  # new grid of x and y coordinates\n",
    "    print('output cell size is {} m with {} cells in x and {} cells in y'.format(outdxy, nx, ny))\n",
    "\n",
    "    resample = RegularGridInterpolator((y, x), in_array)  # use the scipy RegularGridInterpolator to resample the DEM\n",
    "    pts = np.stack((np.ravel(outY), np.ravel(outX)), axis=-1)  # points to resample to\n",
    "    data_vector = resample(pts)  # output DEM vector\n",
    "    data_array = data_vector.reshape(np.int(ny), np.int(nx))  # ouput DEM array\n",
    "    cut_array = data_array[cut:, :]  # cut of the top [0, :] of the DEM to make outflow point\n",
    "\n",
    "    f = open(ascfile, 'w')  # output DEM array to asc file for CAESAR to play with\n",
    "    f.write('ncols         {}\\n'.format(np.shape(cut_array)[1]))\n",
    "    f.write('nrows         {}\\n'.format(np.shape(cut_array)[0]))\n",
    "    f.write('xllcorner     {}\\n'.format((rio_array.transform * (0, rio_array.height))[0]))\n",
    "    f.write('yllcorner     {}\\n'.format((rio_array.transform * (0, rio_array.height))[1]))\n",
    "    f.write('cellsize      {}\\n'.format(outdxy))\n",
    "    f.write('NODATA_value  -9999\\n')\n",
    "\n",
    "    pix = '{0} '\n",
    "    for i in range(np.shape(cut_array)[0]):\n",
    "        for j in range(np.shape(cut_array)[1]):\n",
    "            if np.isnan(cut_array[i, j]) == True:\n",
    "                f.write(pix.format(np.int(-9999)))  # need to replace nan with -9999\n",
    "            else:\n",
    "                f.write(pix.format(cut_array[i, j]))\n",
    "        f.write(\"\\n\")\n",
    "    f.close()"
   ]
  },
  {
   "cell_type": "code",
   "execution_count": null,
   "metadata": {},
   "outputs": [],
   "source": [
    "bedrock = '../../caesar-explore/sithas/THICKNESS_SOIL_SITHAS_RESAMPLE.tif'\n",
    "demfile = '../../caesar-explore/sithas/DEM_SITHAS_redraw.grd'\n",
    "ascfile = '../../caesar-explore/sithas/input_data/DEM_sithas_soil_thickness.asc'\n",
    "bedrock2input(bedrock, demfile, ascfile, 20)"
   ]
  },
  {
   "cell_type": "code",
   "execution_count": null,
   "metadata": {},
   "outputs": [],
   "source": []
  }
 ],
 "metadata": {
  "kernelspec": {
   "display_name": "Python 3",
   "language": "python",
   "name": "python3"
  },
  "language_info": {
   "codemirror_mode": {
    "name": "ipython",
    "version": 3
   },
   "file_extension": ".py",
   "mimetype": "text/x-python",
   "name": "python",
   "nbconvert_exporter": "python",
   "pygments_lexer": "ipython3",
   "version": "3.8.2"
  }
 },
 "nbformat": 4,
 "nbformat_minor": 4
}
