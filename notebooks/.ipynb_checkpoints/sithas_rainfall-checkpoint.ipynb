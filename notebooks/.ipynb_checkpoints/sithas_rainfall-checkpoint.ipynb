{
 "cells": [
  {
   "cell_type": "markdown",
   "metadata": {},
   "source": [
    "# Plot precipitation history from Sithas Catchment (Bouzi Station)"
   ]
  },
  {
   "cell_type": "code",
   "execution_count": null,
   "metadata": {},
   "outputs": [],
   "source": [
    "import numpy as np\n",
    "import matplotlib.pyplot as plt\n",
    "import pandas as pd\n",
    "import seaborn as sns"
   ]
  },
  {
   "cell_type": "code",
   "execution_count": null,
   "metadata": {},
   "outputs": [],
   "source": [
    "file = '../../caesar-explore/sithas/input_data/Chalkio_station.txt'\n",
    "chalkio = pd.read_csv(file, sep=' |,', index_col=False, comment='#')\n",
    "file = '../../caesar-explore/sithas/input_data/Bouzi_station.txt'\n",
    "bouzi = pd.read_csv(file, sep=' |,', index_col=False, comment='#')"
   ]
  },
  {
   "cell_type": "code",
   "execution_count": null,
   "metadata": {},
   "outputs": [],
   "source": [
    "chalkio = chalkio.set_index('date')\n",
    "bouzi = bouzi.set_index('date')\n",
    "bouzi.head(3)"
   ]
  },
  {
   "cell_type": "code",
   "execution_count": null,
   "metadata": {},
   "outputs": [],
   "source": [
    "sns.set(rc={'figure.figsize':(20, 4)})"
   ]
  },
  {
   "cell_type": "code",
   "execution_count": null,
   "metadata": {},
   "outputs": [],
   "source": [
    "plt.figure()\n",
    "ax = chalkio['rainfall'].plot(linewidth=0.5)\n",
    "ax.set_ylabel('Precipitation (mm)')\n",
    "plt.savefig('chalkio.png')\n",
    "plt.show()"
   ]
  },
  {
   "cell_type": "code",
   "execution_count": null,
   "metadata": {},
   "outputs": [],
   "source": [
    "plt.figure()\n",
    "ax = bouzi['rainfall'].plot(linewidth=0.5)\n",
    "ax.set_ylabel('Precipitation (mm)')\n",
    "plt.savefig('bouzi.png')\n",
    "plt.show()"
   ]
  },
  {
   "cell_type": "code",
   "execution_count": null,
   "metadata": {},
   "outputs": [],
   "source": [
    "np.savetxt('../../caesar-explore/sithas/input_data/Chalkio_rain.txt', chalkio.rainfall/24)"
   ]
  },
  {
   "cell_type": "code",
   "execution_count": null,
   "metadata": {},
   "outputs": [],
   "source": [
    "60*24"
   ]
  },
  {
   "cell_type": "code",
   "execution_count": null,
   "metadata": {},
   "outputs": [],
   "source": [
    "710/60"
   ]
  },
  {
   "cell_type": "markdown",
   "metadata": {},
   "source": [
    "# Plout output"
   ]
  },
  {
   "cell_type": "code",
   "execution_count": null,
   "metadata": {},
   "outputs": [],
   "source": [
    "file = '../../caesar-explore/sithas/results_1/Sithas_v6_50_100days.dat'\n",
    "sithas = pd.read_csv(file, sep=' ', index_col=False,\n",
    "                     names=['Time Step', 'Qw(actual)', 'Qw(expected)', 'Blank', 'Qs', 'Qs1', 'Qs2', 'Qs3', 'Qs4'])\n",
    "sithas"
   ]
  },
  {
   "cell_type": "code",
   "execution_count": null,
   "metadata": {},
   "outputs": [],
   "source": [
    "sns.set(rc={'figure.figsize':(15, 15)})\n",
    "plt.figure()\n",
    "cols_plot = ['Qw(actual)', 'Qw(expected)', 'Qs', 'Qs1', 'Qs2', 'Qs3', 'Qs4']\n",
    "axes = sithas[cols_plot].plot(marker='.', alpha=0.5, subplots=True)\n",
    "i = 0\n",
    "for ax in axes:\n",
    "    ax.set_ylabel(cols_plot[i])\n",
    "    i += 1\n",
    "plt.savefig('chalkio_first97days.png')\n",
    "plt.show()"
   ]
  },
  {
   "cell_type": "code",
   "execution_count": null,
   "metadata": {},
   "outputs": [],
   "source": [
    "file = '../../caesar-explore/sithas/results_2/Sithas_v6_50_100days.dat'\n",
    "sithas = pd.read_csv(file, sep=' ', index_col=False,\n",
    "                     names=['Time Step', 'Qw(actual)', 'Qw(expected)', 'Blank', 'Qs', 'Qs1', 'Qs2', 'Qs3', 'Qs4'])\n",
    "sithas"
   ]
  },
  {
   "cell_type": "code",
   "execution_count": null,
   "metadata": {},
   "outputs": [],
   "source": [
    "sns.set(rc={'figure.figsize':(15, 15)})\n",
    "plt.figure()\n",
    "cols_plot = ['Qw(actual)', 'Qw(expected)', 'Qs', 'Qs1', 'Qs2', 'Qs3', 'Qs4']\n",
    "axes = sithas[cols_plot].plot(marker='.', alpha=0.5, subplots=True)\n",
    "i = 0\n",
    "for ax in axes:\n",
    "    ax.set_ylabel(cols_plot[i])\n",
    "    i += 1\n",
    "plt.savefig('chalkio_first97days.png')\n",
    "plt.show()"
   ]
  },
  {
   "cell_type": "code",
   "execution_count": null,
   "metadata": {},
   "outputs": [],
   "source": [
    "file = '../../caesar-explore/sithas/results/Sithas_v6_50_100days.dat'\n",
    "sithas = pd.read_csv(file, sep=' ', index_col=False,\n",
    "                     names=['Time Step', 'Qw(actual)', 'Qw(expected)', 'Blank', 'Qs', 'clay', 'silt', 'sand', 'gravel'])\n",
    "sithas"
   ]
  },
  {
   "cell_type": "code",
   "execution_count": null,
   "metadata": {},
   "outputs": [],
   "source": [
    "sns.set(rc={'figure.figsize':(15, 15)})\n",
    "plt.figure()\n",
    "cols_plot = ['Qw(actual)', 'Qw(expected)', 'Qs', 'clay', 'silt', 'sand', 'gravel']\n",
    "axes = sithas[cols_plot].plot(marker='.', alpha=0.5, subplots=True)\n",
    "i = 0\n",
    "for ax in axes:\n",
    "    ax.set_ylabel(cols_plot[i])\n",
    "    i += 1\n",
    "plt.savefig('chalkio_first1000days.png')\n",
    "plt.show()"
   ]
  },
  {
   "cell_type": "code",
   "execution_count": null,
   "metadata": {},
   "outputs": [],
   "source": []
  }
 ],
 "metadata": {
  "kernelspec": {
   "display_name": "Python 3",
   "language": "python",
   "name": "python3"
  },
  "language_info": {
   "codemirror_mode": {
    "name": "ipython",
    "version": 3
   },
   "file_extension": ".py",
   "mimetype": "text/x-python",
   "name": "python",
   "nbconvert_exporter": "python",
   "pygments_lexer": "ipython3",
   "version": "3.7.6"
  }
 },
 "nbformat": 4,
 "nbformat_minor": 4
}
